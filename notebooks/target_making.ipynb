{
 "cells": [
  {
   "cell_type": "code",
   "execution_count": 1,
   "metadata": {},
   "outputs": [],
   "source": [
    "import sys\n",
    "sys.path.append(r'C:\\Users\\aburtnerabt\\Documents\\Continuing Education\\Algo Trading\\algo_trading\\src')"
   ]
  },
  {
   "cell_type": "code",
   "execution_count": 9,
   "metadata": {},
   "outputs": [],
   "source": [
    "import math\n",
    "import pandas as pd\n",
    "from features.build_features import feature_pipeline"
   ]
  },
  {
   "cell_type": "code",
   "execution_count": 3,
   "metadata": {},
   "outputs": [
    {
     "name": "stderr",
     "output_type": "stream",
     "text": [
      "C:\\Users\\aburtnerabt\\Documents\\Continuing Education\\Algo Trading\\algo_trading\\src\\features\\build_features.py:68: FutureWarning: The series.append method is deprecated and will be removed from pandas in a future version. Use pandas.concat instead.\n",
      "  df.ta.mcgd(append=True)\n"
     ]
    }
   ],
   "source": [
    "data = feature_pipeline(r'C:\\Users\\aburtnerabt\\Documents\\Continuing Education\\Algo Trading\\algo_trading\\data\\raw\\A')"
   ]
  },
  {
   "cell_type": "code",
   "execution_count": 5,
   "metadata": {},
   "outputs": [],
   "source": [
    "#make simple percent change target for time frames\n",
    "def add_aboslute_percent_increase(data):\n",
    "    data['%_change_adj_close_28'] = data['adj close'].pct_change(periods=28)\n",
    "    data['%_change_adj_close_21'] = data['adj close'].pct_change(periods=21)\n",
    "    data['%_change_adj_close_14'] = data['adj close'].pct_change(periods=14)\n",
    "    data['%_change_adj_close_7'] = data['adj close'].pct_change(periods=7)\n",
    "    return data"
   ]
  },
  {
   "cell_type": "code",
   "execution_count": 7,
   "metadata": {},
   "outputs": [],
   "source": [
    "#make log return column, then log return percents\n",
    "def add_percent_log_increase(data):\n",
    "    data['log_adj_close'] = data['adj close'].apply(lambda x: math.log10(x))\n",
    "    data['%_change_log_adj_close_28'] = data['log_adj_close'].pct_change(periods=28)\n",
    "    data['%_change_log_adj_close_21'] = data['log_adj_close'].pct_change(periods=21)\n",
    "    data['%_change_log_adj_close_14'] = data['log_adj_close'].pct_change(periods=14)\n",
    "    data['%_change_log_adj_close_7'] = data['log_adj_close'].pct_change(periods=7)\n",
    "    return data"
   ]
  },
  {
   "cell_type": "code",
   "execution_count": 8,
   "metadata": {},
   "outputs": [
    {
     "data": {
      "text/plain": [
       "65.06788635253906"
      ]
     },
     "execution_count": 8,
     "metadata": {},
     "output_type": "execute_result"
    }
   ],
   "source": [
    "first_date = data.index[0]\n",
    "data.loc[first_date]['adj close']"
   ]
  },
  {
   "cell_type": "code",
   "execution_count": 10,
   "metadata": {},
   "outputs": [
    {
     "data": {
      "text/plain": [
       "date\n",
       "2019-05-29    65.067886\n",
       "2019-05-30    64.671501\n",
       "2019-05-31    64.826195\n",
       "2019-06-03    64.768173\n",
       "2019-06-04    65.696342\n",
       "2019-06-05    66.083069\n",
       "2019-06-06    66.866203\n",
       "2019-06-07    67.214256\n",
       "2019-06-10    67.958740\n",
       "2019-06-11    67.765358\n",
       "2019-06-12    67.958740\n",
       "2019-06-13    67.968391\n",
       "2019-06-14    67.649338\n",
       "2019-06-17    67.958740\n",
       "2019-06-18    69.525002\n",
       "2019-06-19    70.240456\n",
       "2019-06-20    70.888222\n",
       "2019-06-21    70.907570\n",
       "2019-06-24    70.714211\n",
       "2019-06-25    70.105095\n",
       "2019-06-26    69.747383\n",
       "Name: adj close, dtype: float64"
      ]
     },
     "execution_count": 10,
     "metadata": {},
     "output_type": "execute_result"
    }
   ],
   "source": [
    "second_date = first_date + pd.DateOffset(days=28)\n",
    "data.loc[first_date:second_date]['adj close']"
   ]
  },
  {
   "cell_type": "code",
   "execution_count": 14,
   "metadata": {},
   "outputs": [
    {
     "data": {
      "text/plain": [
       "1"
      ]
     },
     "execution_count": 14,
     "metadata": {},
     "output_type": "execute_result"
    }
   ],
   "source": [
    "draw_down = 66\n",
    "int(any(map(lambda x: x<draw_down, data.loc[first_date:second_date]['adj close'])))"
   ]
  },
  {
   "cell_type": "code",
   "execution_count": 16,
   "metadata": {},
   "outputs": [
    {
     "data": {
      "text/plain": [
       "1163"
      ]
     },
     "execution_count": 16,
     "metadata": {},
     "output_type": "execute_result"
    }
   ],
   "source": [
    "len(data.index)\n"
   ]
  },
  {
   "cell_type": "code",
   "execution_count": 17,
   "metadata": {},
   "outputs": [
    {
     "data": {
      "text/plain": [
       "1153"
      ]
     },
     "execution_count": 17,
     "metadata": {},
     "output_type": "execute_result"
    }
   ],
   "source": [
    "len(data.index[:-10])"
   ]
  },
  {
   "cell_type": "code",
   "execution_count": 29,
   "metadata": {},
   "outputs": [],
   "source": [
    "def encode_outcome_target(df, tgt_column, drawdown_pct, increase_pct, days):\n",
    "    target_values = []\n",
    "    #for each date in index get value 28 days ahead\n",
    "    for date in df.index[:-days]:\n",
    "        current_val = df.loc[date][tgt_column]\n",
    "        min_future_val = current_val * (1+increase_pct)\n",
    "        drawdown_amount = current_val * (1-drawdown_pct)\n",
    "        #make sure values in between date and tgt date \n",
    "        #dont drop below drawdown pct target    \n",
    "        end_date = date + pd.DateOffset(days=days)\n",
    "        returns = df.loc[date:end_date][tgt_column]\n",
    "\n",
    "        #identify if price drops below floor\n",
    "        drawdown_indicator = int(any(map(lambda x: x<drawdown_amount, returns)))\n",
    "\n",
    "        #identify if price goes above target\n",
    "        return_indicator = int(any(map(lambda x: x>min_future_val, returns)))\n",
    "\n",
    "        #if below floor return 0, if above target return 1, otherwise return 0\n",
    "        if drawdown_indicator == 1:\n",
    "            target = 0\n",
    "        elif return_indicator == 0:\n",
    "            target = 0\n",
    "        else:\n",
    "            target = 1\n",
    "        target_values.append(target)\n",
    "    #add null values for \n",
    "    for day in range(days):\n",
    "        target_values.append(None)\n",
    "    return target_values\n",
    "\n",
    "        "
   ]
  },
  {
   "cell_type": "code",
   "execution_count": 30,
   "metadata": {},
   "outputs": [],
   "source": [
    "test = encode_outcome_target(data, 'adj close', .05, .05, 28)"
   ]
  },
  {
   "cell_type": "code",
   "execution_count": 31,
   "metadata": {},
   "outputs": [],
   "source": [
    "data['5%_higher_5%_drawdown'] = test"
   ]
  },
  {
   "cell_type": "code",
   "execution_count": 32,
   "metadata": {},
   "outputs": [
    {
     "data": {
      "text/plain": [
       "517.0"
      ]
     },
     "execution_count": 32,
     "metadata": {},
     "output_type": "execute_result"
    }
   ],
   "source": [
    "data['5%_higher_5%_drawdown'].sum()"
   ]
  },
  {
   "cell_type": "code",
   "execution_count": 33,
   "metadata": {},
   "outputs": [],
   "source": [
    "checker = data[['adj close','5%_higher_5%_drawdown']]"
   ]
  },
  {
   "cell_type": "code",
   "execution_count": 4,
   "metadata": {},
   "outputs": [
    {
     "name": "stdout",
     "output_type": "stream",
     "text": [
      "(1259, 215)\n",
      "2024-01-09 00:00:00\n",
      "(1163, 215)\n",
      "2024-01-09 00:00:00\n"
     ]
    }
   ],
   "source": [
    "print(data.shape)\n",
    "print(max(data.index))\n",
    "data = data.dropna()\n",
    "print(data.shape)\n",
    "print(max(data.index))"
   ]
  },
  {
   "cell_type": "code",
   "execution_count": null,
   "metadata": {},
   "outputs": [],
   "source": []
  }
 ],
 "metadata": {
  "kernelspec": {
   "display_name": "algo_trade",
   "language": "python",
   "name": "python3"
  },
  "language_info": {
   "codemirror_mode": {
    "name": "ipython",
    "version": 3
   },
   "file_extension": ".py",
   "mimetype": "text/x-python",
   "name": "python",
   "nbconvert_exporter": "python",
   "pygments_lexer": "ipython3",
   "version": "3.9.7"
  }
 },
 "nbformat": 4,
 "nbformat_minor": 2
}
