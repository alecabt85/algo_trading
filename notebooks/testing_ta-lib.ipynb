{
 "cells": [
  {
   "cell_type": "code",
   "execution_count": 230,
   "metadata": {},
   "outputs": [],
   "source": [
    "import pandas_ta as ta\n",
    "import pandas as pd\n",
    "from IPython.display import display"
   ]
  },
  {
   "cell_type": "code",
   "execution_count": 231,
   "metadata": {},
   "outputs": [],
   "source": [
    "data = pd.read_csv(r'C:\\Users\\aburtnerabt\\Documents\\Continuing Education\\Algo Trading\\algo_trading\\data\\raw\\A')"
   ]
  },
  {
   "cell_type": "code",
   "execution_count": 232,
   "metadata": {},
   "outputs": [
    {
     "data": {
      "text/html": [
       "<div>\n",
       "<style scoped>\n",
       "    .dataframe tbody tr th:only-of-type {\n",
       "        vertical-align: middle;\n",
       "    }\n",
       "\n",
       "    .dataframe tbody tr th {\n",
       "        vertical-align: top;\n",
       "    }\n",
       "\n",
       "    .dataframe thead th {\n",
       "        text-align: right;\n",
       "    }\n",
       "</style>\n",
       "<table border=\"1\" class=\"dataframe\">\n",
       "  <thead>\n",
       "    <tr style=\"text-align: right;\">\n",
       "      <th></th>\n",
       "      <th>Date</th>\n",
       "      <th>Open</th>\n",
       "      <th>High</th>\n",
       "      <th>Low</th>\n",
       "      <th>Close</th>\n",
       "      <th>Adj Close</th>\n",
       "      <th>Volume</th>\n",
       "    </tr>\n",
       "  </thead>\n",
       "  <tbody>\n",
       "    <tr>\n",
       "      <th>0</th>\n",
       "      <td>2019-01-09</td>\n",
       "      <td>68.199997</td>\n",
       "      <td>69.660004</td>\n",
       "      <td>68.000000</td>\n",
       "      <td>69.250000</td>\n",
       "      <td>66.816620</td>\n",
       "      <td>2442300</td>\n",
       "    </tr>\n",
       "    <tr>\n",
       "      <th>1</th>\n",
       "      <td>2019-01-10</td>\n",
       "      <td>69.050003</td>\n",
       "      <td>69.949997</td>\n",
       "      <td>68.599998</td>\n",
       "      <td>69.900002</td>\n",
       "      <td>67.443787</td>\n",
       "      <td>1080900</td>\n",
       "    </tr>\n",
       "    <tr>\n",
       "      <th>2</th>\n",
       "      <td>2019-01-11</td>\n",
       "      <td>69.290001</td>\n",
       "      <td>70.410004</td>\n",
       "      <td>68.940002</td>\n",
       "      <td>70.379997</td>\n",
       "      <td>67.906898</td>\n",
       "      <td>1210800</td>\n",
       "    </tr>\n",
       "    <tr>\n",
       "      <th>3</th>\n",
       "      <td>2019-01-14</td>\n",
       "      <td>69.720001</td>\n",
       "      <td>70.290001</td>\n",
       "      <td>69.669998</td>\n",
       "      <td>69.750000</td>\n",
       "      <td>67.299049</td>\n",
       "      <td>2182700</td>\n",
       "    </tr>\n",
       "    <tr>\n",
       "      <th>4</th>\n",
       "      <td>2019-01-15</td>\n",
       "      <td>69.949997</td>\n",
       "      <td>70.750000</td>\n",
       "      <td>69.620003</td>\n",
       "      <td>70.599998</td>\n",
       "      <td>68.119164</td>\n",
       "      <td>1793100</td>\n",
       "    </tr>\n",
       "  </tbody>\n",
       "</table>\n",
       "</div>"
      ],
      "text/plain": [
       "         Date       Open       High        Low      Close  Adj Close   Volume\n",
       "0  2019-01-09  68.199997  69.660004  68.000000  69.250000  66.816620  2442300\n",
       "1  2019-01-10  69.050003  69.949997  68.599998  69.900002  67.443787  1080900\n",
       "2  2019-01-11  69.290001  70.410004  68.940002  70.379997  67.906898  1210800\n",
       "3  2019-01-14  69.720001  70.290001  69.669998  69.750000  67.299049  2182700\n",
       "4  2019-01-15  69.949997  70.750000  69.620003  70.599998  68.119164  1793100"
      ]
     },
     "execution_count": 232,
     "metadata": {},
     "output_type": "execute_result"
    }
   ],
   "source": [
    "data.head()"
   ]
  },
  {
   "cell_type": "code",
   "execution_count": 233,
   "metadata": {},
   "outputs": [],
   "source": [
    "def convert_to_ta(df):\n",
    "    output = ta.DataFrame()\n",
    "    for column in df.columns:\n",
    "        output[column.lower()] = df[column]\n",
    "    output.index = df.index\n",
    "    return output"
   ]
  },
  {
   "cell_type": "code",
   "execution_count": 234,
   "metadata": {},
   "outputs": [],
   "source": [
    "test = convert_to_ta(data)\n",
    "test.ta.adjusted = 'Adj Close'"
   ]
  },
  {
   "cell_type": "code",
   "execution_count": 235,
   "metadata": {},
   "outputs": [],
   "source": [
    "def add_momentum(df):\n",
    "    df.ta.ao(append=True)\n",
    "    df.ta.apo(append=True)\n",
    "    df.ta.bias(append=True)\n",
    "    df.ta.bop(append=True)\n",
    "    df.ta.brar(append=True)\n",
    "    df.ta.cci(append=True)\n",
    "    df.ta.cfo(append=True)\n",
    "    df.ta.cg(append=True)\n",
    "    df.ta.cmo(append=True)\n",
    "    df.ta.coppock(append=True)\n",
    "    df.ta.cti(append=True)\n",
    "    df.ta.dm(append=True)\n",
    "    df.ta.er(append=True)\n",
    "    df.ta.eri(append=True)\n",
    "    df.ta.fisher(append=True)\n",
    "    df.ta.inertia(append=True)\n",
    "    df.ta.kdj(append=True)\n",
    "    df.ta.kst(append=True)\n",
    "    df.ta.macd(append=True)\n",
    "    df.ta.mom(append=True)\n",
    "    df.ta.pgo(append=True)\n",
    "    df.ta.ppo(append=True)\n",
    "    df.ta.psl(append=True)\n",
    "    df.ta.pvo(append=True)\n",
    "    df.ta.qqe(append=True, fillna=0)\n",
    "    df.ta.roc(append=True)\n",
    "    df.ta.rsi(append=True)\n",
    "    df.ta.rsx(append=True)\n",
    "    df.ta.rvgi(append=True)\n",
    "    df.ta.stc(append=True)\n",
    "    df.ta.slope(append=True)\n",
    "    df.ta.smi(append=True)\n",
    "    df.ta.squeeze(append=True)\n",
    "    df.ta.squeeze_pro(append=True)\n",
    "    df.ta.stoch(append=True)\n",
    "    df.ta.trix(append=True)\n",
    "    df.ta.tsi(append=True)\n",
    "    df.ta.uo(append=True)\n",
    "    df.ta.willr(append=True)\n",
    "    return df\n"
   ]
  },
  {
   "cell_type": "code",
   "execution_count": 236,
   "metadata": {},
   "outputs": [],
   "source": [
    "def add_overlap(df):\n",
    "    df.ta.alma(append=True)\n",
    "    df.ta.dema(append=True)\n",
    "    df.ta.ema(append=True)\n",
    "    df.ta.fwma(append=True)\n",
    "    df.ta.hilo(append=True, fillna=0)\n",
    "    df.ta.hl2(append=True)\n",
    "    df.ta.hlc3(append=True)\n",
    "    df.ta.hma(append=True)\n",
    "    df.ta.hwma(append=True)\n",
    "    df.ta.ichimoku(append=True)\n",
    "    df.ta.jma(append=True)\n",
    "    df.ta.kama(append=True)\n",
    "    df.ta.linreg(append=True)\n",
    "    df.ta.mcgd(append=True)\n",
    "    df.ta.midpoint(append=True)\n",
    "    df.ta.midprice(append=True)\n",
    "    df.ta.ohlc4(append=True)\n",
    "    df.ta.pwma(append=True)\n",
    "    df.ta.rma(append=True)\n",
    "    df.ta.sinwma(append=True)\n",
    "    df.ta.sma(append=True)\n",
    "    df.ta.ssf(append=True)\n",
    "    df.ta.supertrend(append=True, fillna=0)\n",
    "    df.ta.swma(append=True)\n",
    "    df.ta.t3(append=True)\n",
    "    df.ta.tema(append=True)\n",
    "    df.ta.trima(append=True)\n",
    "    df.ta.vidya(append=True)\n",
    "    df['date'] = pd.to_datetime(df.date)\n",
    "    df.set_index('date', inplace=True)\n",
    "    df.ta.vwap(append=True)\n",
    "    df.ta.vwma(append=True)\n",
    "    df.ta.wcp(append=True)\n",
    "    df.ta.wma(append=True)\n",
    "    df.ta.zlma(append=True)\n",
    "    return df"
   ]
  },
  {
   "cell_type": "code",
   "execution_count": 237,
   "metadata": {},
   "outputs": [],
   "source": [
    "def add_td_seq(df):\n",
    "    out = df.ta.td_seq(show_all=True, fillna=0)\n",
    "    out.index = df.index\n",
    "    df = df.merge(out, left_index=True, right_index=True)\n",
    "    return df"
   ]
  },
  {
   "cell_type": "code",
   "execution_count": 238,
   "metadata": {},
   "outputs": [],
   "source": [
    "def add_candles(df):\n",
    "    candles = df.ta.cdl_pattern(name='all')\n",
    "    df = df.merge(candles, how='left', left_index=True, right_index=True)\n",
    "    return df"
   ]
  },
  {
   "cell_type": "code",
   "execution_count": 239,
   "metadata": {},
   "outputs": [],
   "source": [
    "def add_volatility(df):\n",
    "    df.ta.aberration(append=True, fillna=0)\n",
    "    df.ta.accbands(append=True, fillna=0)\n",
    "    df.ta.atr(append=True, fillna=0)\n",
    "    df.ta.bbands(append=True, fillna=0)\n",
    "    df.ta.donchian(append=True, fillna=0)\n",
    "    df.ta.hwc(append=True, fillna=0)\n",
    "    df.ta.kc(append=True, fillna=0)\n",
    "    df.ta.massi(append=True, fillna=0)\n",
    "    df.ta.natr(append=True, fillna=0)\n",
    "    df.ta.pdist(append=True, fillna=0)\n",
    "    df.ta.rvi(append=True, fillna=0)\n",
    "    df.ta.thermo(append=True, fillna=0)\n",
    "    df.ta.true_range(append=True, fillna=0)\n",
    "    df.ta.ui(append=True, fillna=0)\n",
    "    return df"
   ]
  },
  {
   "cell_type": "code",
   "execution_count": 240,
   "metadata": {},
   "outputs": [
    {
     "name": "stderr",
     "output_type": "stream",
     "text": [
      "C:\\Users\\aburtnerabt\\AppData\\Local\\Temp\\ipykernel_10504\\56356247.py:15: FutureWarning: The series.append method is deprecated and will be removed from pandas in a future version. Use pandas.concat instead.\n",
      "  df.ta.mcgd(append=True)\n"
     ]
    }
   ],
   "source": [
    "def feature_pipeline(file):\n",
    "    #read in data\n",
    "    data = pd.read_csv(file)\n",
    "\n",
    "    #convert to pandas-ta df\n",
    "    data = convert_to_ta(data)\n",
    "\n",
    "    #add momentum, overlap, candles, vol \n",
    "    data = add_momentum(data)\n",
    "    data = add_td_seq(data)\n",
    "    data = add_overlap(data)\n",
    "    data = add_candles(data)\n",
    "    data = add_volatility(data)\n",
    "\n",
    "    return data\n",
    "\n",
    "test = add_momentum(test)\n",
    "test = add_overlap(test)\n",
    "test = add_candles(test)\n",
    "test = add_volatility(test)"
   ]
  },
  {
   "cell_type": "code",
   "execution_count": 241,
   "metadata": {},
   "outputs": [],
   "source": [
    "nulls = test.isna().sum()"
   ]
  },
  {
   "cell_type": "code",
   "execution_count": 242,
   "metadata": {},
   "outputs": [
    {
     "data": {
      "text/plain": [
       "DatetimeIndex(['2019-01-09', '2019-01-10', '2019-01-11', '2019-01-14',\n",
       "               '2019-01-15', '2019-01-16', '2019-01-17', '2019-01-18',\n",
       "               '2019-01-22', '2019-01-23',\n",
       "               ...\n",
       "               '2023-12-26', '2023-12-27', '2023-12-28', '2023-12-29',\n",
       "               '2024-01-02', '2024-01-03', '2024-01-04', '2024-01-05',\n",
       "               '2024-01-08', '2024-01-09'],\n",
       "              dtype='datetime64[ns]', name='date', length=1259, freq=None)"
      ]
     },
     "execution_count": 242,
     "metadata": {},
     "output_type": "execute_result"
    }
   ],
   "source": [
    "test.index"
   ]
  },
  {
   "cell_type": "code",
   "execution_count": 248,
   "metadata": {},
   "outputs": [
    {
     "name": "stdout",
     "output_type": "stream",
     "text": [
      "2019-01-09 00:00:00\n",
      "2019-02-06 00:00:00\n"
     ]
    }
   ],
   "source": [
    "print(test.index[0])\n",
    "print(test.index[0]+pd.DateOffset(days=28))"
   ]
  },
  {
   "cell_type": "code",
   "execution_count": 249,
   "metadata": {},
   "outputs": [
    {
     "data": {
      "text/plain": [
       "open                 75.070000\n",
       "high                 75.809998\n",
       "low                  74.760002\n",
       "close                75.800003\n",
       "adj close            73.136452\n",
       "                       ...    \n",
       "THERMOma_20_2_0.5     0.725738\n",
       "THERMOl_20_2_0.5      1.000000\n",
       "THERMOs_20_2_0.5      0.000000\n",
       "TRUERANGE_1           1.049995\n",
       "UI_14                 0.000000\n",
       "Name: 2019-02-08 00:00:00, Length: 213, dtype: float64"
      ]
     },
     "execution_count": 249,
     "metadata": {},
     "output_type": "execute_result"
    },
    {
     "ename": "",
     "evalue": "",
     "output_type": "error",
     "traceback": [
      "\u001b[1;31mThe Kernel crashed while executing code in the the current cell or a previous cell. Please review the code in the cell(s) to identify a possible cause of the failure. Click <a href='https://aka.ms/vscodeJupyterKernelCrash'>here</a> for more info. View Jupyter <a href='command:jupyter.viewOutput'>log</a> for further details."
     ]
    }
   ],
   "source": [
    "test.loc[test.index[0]+pd.DateOffset(days=30)]"
   ]
  },
  {
   "cell_type": "code",
   "execution_count": null,
   "metadata": {},
   "outputs": [],
   "source": []
  }
 ],
 "metadata": {
  "kernelspec": {
   "display_name": "algo_trade",
   "language": "python",
   "name": "python3"
  },
  "language_info": {
   "codemirror_mode": {
    "name": "ipython",
    "version": 3
   },
   "file_extension": ".py",
   "mimetype": "text/x-python",
   "name": "python",
   "nbconvert_exporter": "python",
   "pygments_lexer": "ipython3",
   "version": "3.9.7"
  }
 },
 "nbformat": 4,
 "nbformat_minor": 2
}
